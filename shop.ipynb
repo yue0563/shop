{
 "cells": [
  {
   "cell_type": "markdown",
   "metadata": {},
   "source": [
    "### 安裝mysql套件"
   ]
  },
  {
   "cell_type": "code",
   "execution_count": 1,
   "metadata": {},
   "outputs": [],
   "source": [
    "#pip install pymysql"
   ]
  },
  {
   "cell_type": "code",
   "execution_count": 2,
   "metadata": {},
   "outputs": [
    {
     "data": {
      "text/plain": [
       "'1.4.6'"
      ]
     },
     "execution_count": 2,
     "metadata": {},
     "output_type": "execute_result"
    }
   ],
   "source": [
    "import pymysql\n",
    "\n",
    "pymysql.__version__"
   ]
  },
  {
   "cell_type": "markdown",
   "metadata": {},
   "source": [
    "### 連接mysql"
   ]
  },
  {
   "cell_type": "code",
   "execution_count": 50,
   "metadata": {},
   "outputs": [
    {
     "data": {
      "text/plain": [
       "<pymysql.connections.Connection at 0x1fd85ae5390>"
      ]
     },
     "execution_count": 50,
     "metadata": {},
     "output_type": "execute_result"
    }
   ],
   "source": [
    "connect=pymysql.connect(\n",
    "user=\"root\",\n",
    "password=\"12345678\",\n",
    "host=\"127.0.0.1\",  #localhost\n",
    "database=\"shop\",\n",
    "port=3306,\n",
    ")\n",
    "\n",
    "\n",
    "connect"
   ]
  },
  {
   "cell_type": "code",
   "execution_count": 51,
   "metadata": {},
   "outputs": [
    {
     "data": {
      "text/plain": [
       "<pymysql.cursors.Cursor at 0x1fd84e16890>"
      ]
     },
     "execution_count": 51,
     "metadata": {},
     "output_type": "execute_result"
    }
   ],
   "source": [
    "cursor=connect.cursor()\n",
    "cursor"
   ]
  },
  {
   "cell_type": "markdown",
   "metadata": {},
   "source": [
    "### 查詢語法\n",
    "- select from tablename"
   ]
  },
  {
   "cell_type": "code",
   "execution_count": 5,
   "metadata": {},
   "outputs": [
    {
     "data": {
      "text/plain": [
       "((1,\n",
       "  None,\n",
       "  '12345678',\n",
       "  'tim@gmail.com',\n",
       "  '0912345678',\n",
       "  '新北市新莊區思源路100號',\n",
       "  datetime.datetime(2024, 8, 24, 10, 10, 57)),\n",
       " (2,\n",
       "  None,\n",
       "  '12345678',\n",
       "  'tony@gmail.com',\n",
       "  '0977889944',\n",
       "  '',\n",
       "  datetime.datetime(2024, 8, 24, 10, 35, 16)),\n",
       " (5,\n",
       "  'tony',\n",
       "  '12345678',\n",
       "  'tony123@gmail.com',\n",
       "  '0977889945',\n",
       "  '',\n",
       "  datetime.datetime(2024, 8, 24, 10, 37, 50)),\n",
       " (6,\n",
       "  '唐牛',\n",
       "  '7894561',\n",
       "  'vicky@gmil.com',\n",
       "  '0910456789',\n",
       "  '',\n",
       "  datetime.datetime(2024, 8, 24, 10, 42, 50)),\n",
       " (7,\n",
       "  'tom',\n",
       "  '12345678',\n",
       "  'tom@gmail.com',\n",
       "  '0916874592',\n",
       "  '',\n",
       "  datetime.datetime(2024, 8, 24, 11, 58, 23)),\n",
       " (8, '', '', '', '', '', datetime.datetime(2024, 8, 24, 13, 26, 14)))"
      ]
     },
     "execution_count": 5,
     "metadata": {},
     "output_type": "execute_result"
    }
   ],
   "source": [
    "sqlsrt=\"select * from user;\"\n",
    "\n",
    "cursor.execute(sqlsrt)\n",
    "users=cursor.fetchall()\n",
    "users"
   ]
  },
  {
   "cell_type": "markdown",
   "metadata": {},
   "source": [
    "### 註冊功能"
   ]
  },
  {
   "cell_type": "code",
   "execution_count": 6,
   "metadata": {},
   "outputs": [
    {
     "data": {
      "text/plain": [
       "\"insert into user(username,email,password,phone,address)     values('','','','','');\""
      ]
     },
     "execution_count": 6,
     "metadata": {},
     "output_type": "execute_result"
    }
   ],
   "source": [
    "username=input(\"姓名:\")\n",
    "email=input(\"Email:\")\n",
    "password=input(\"密碼:\")\n",
    "phone=input(\"手機號碼:\")\n",
    "address=input(\"地址:\")\n",
    "\n",
    "\n",
    "\n",
    "\n",
    "sqlsrt= f\"insert into user(username,email,password,phone,address) \\\n",
    "    values('{username}','{email}','{password}','{phone}','{address}');\"\n",
    "\n",
    "sqlsrt"
   ]
  },
  {
   "cell_type": "code",
   "execution_count": 7,
   "metadata": {},
   "outputs": [
    {
     "name": "stdout",
     "output_type": "stream",
     "text": [
      "寫入失敗 (1062, \"Duplicate entry '' for key 'email'\")\n"
     ]
    }
   ],
   "source": [
    "try:\n",
    "    cursor.execute(sqlsrt)\n",
    "    connect.commit()\n",
    "except Exception as e:\n",
    "    print(\"寫入失敗\",e)"
   ]
  },
  {
   "cell_type": "markdown",
   "metadata": {},
   "source": [
    "### 進行登入"
   ]
  },
  {
   "cell_type": "code",
   "execution_count": 8,
   "metadata": {},
   "outputs": [
    {
     "data": {
      "text/plain": [
       "\"select * from user where email='' and password=''\""
      ]
     },
     "execution_count": 8,
     "metadata": {},
     "output_type": "execute_result"
    }
   ],
   "source": [
    "email=input(\"Email:\")\n",
    "password=input(\"密碼:\")\n",
    "\n",
    "sqlsrt=f\"select * from user where email='{email}' and password='{password}'\"\n",
    "sqlsrt"
   ]
  },
  {
   "cell_type": "code",
   "execution_count": 9,
   "metadata": {},
   "outputs": [
    {
     "data": {
      "text/plain": [
       "(8, '', '', '', '', '', datetime.datetime(2024, 8, 24, 13, 26, 14))"
      ]
     },
     "execution_count": 9,
     "metadata": {},
     "output_type": "execute_result"
    }
   ],
   "source": [
    "cursor.execute(sqlsrt)\n",
    "user=cursor.fetchone()\n",
    "user"
   ]
  },
  {
   "cell_type": "code",
   "execution_count": 10,
   "metadata": {},
   "outputs": [
    {
     "name": "stdout",
     "output_type": "stream",
     "text": [
      "登入成功!\n"
     ]
    }
   ],
   "source": [
    "if user is not None:\n",
    "    print(\"登入成功!\")\n",
    "else:\n",
    "    print(\"登入失敗!\")"
   ]
  },
  {
   "cell_type": "markdown",
   "metadata": {},
   "source": [
    "### 建立商品資料表(item)\n",
    "- id     - int(AI)\n",
    "- name   - varchar(100) - uniqne\n",
    "- price  - float    \n",
    "- qty    - int      - default:1\n",
    "- info   - text     - 可以為空"
   ]
  },
  {
   "cell_type": "markdown",
   "metadata": {},
   "source": [
    "### 商品列表"
   ]
  },
  {
   "cell_type": "code",
   "execution_count": 47,
   "metadata": {},
   "outputs": [
    {
     "data": {
      "text/plain": [
       "((1,\n",
       "  'macbook air 2023 pro',\n",
       "  35000.0,\n",
       "  0,\n",
       "  '256ssd 16g',\n",
       "  datetime.date(2024, 8, 24)),\n",
       " (2, 'hp tuf 17 noetbook', 43000.0, 0, '電競用筆電 黑色', datetime.date(2024, 8, 24)),\n",
       " (3, 'iphone 16 pro max', 42000.0, 4, '1TB 天空藍', datetime.date(2024, 8, 24)),\n",
       " (4, 'iphone 15 pro max', 45000.0, 4, '256G 玫瑰金', datetime.date(2024, 8, 24)),\n",
       " (5, 'iphone 14 pro max', 40000.0, 4, '256G 白', datetime.date(2024, 8, 24)),\n",
       " (6, 'iphone 17 pro max', 48000.0, 4, '1TB 綠色', datetime.date(2024, 8, 24)))"
      ]
     },
     "execution_count": 47,
     "metadata": {},
     "output_type": "execute_result"
    }
   ],
   "source": [
    "def update_item():\n",
    "    sqlsrt=\"select * from item;\"\n",
    "\n",
    "    cursor.execute(sqlsrt)\n",
    "    items=cursor.fetchall()\n",
    "    return items\n",
    "\n",
    "update_item()"
   ]
  },
  {
   "cell_type": "code",
   "execution_count": 46,
   "metadata": {},
   "outputs": [
    {
     "name": "stdout",
     "output_type": "stream",
     "text": [
      "----------------------------------------------------------------------------------------------------\n",
      "1.商品名稱:macbook air 2023 pro 價格:35000.0 數量:2 備註:256ssd 16g\n",
      "2.商品名稱:hp tuf 17 noetbook 價格:43000.0 數量:0 備註:電競用筆電 黑色\n",
      "3.商品名稱:iphone 16 pro max 價格:42000.0 數量:4 備註:1TB 天空藍\n",
      "4.商品名稱:iphone 15 pro max 價格:45000.0 數量:4 備註:256G 玫瑰金\n",
      "5.商品名稱:iphone 14 pro max 價格:40000.0 數量:4 備註:256G 白\n",
      "6.商品名稱:iphone 17 pro max 價格:48000.0 數量:4 備註:1TB 綠色\n",
      "----------------------------------------------------------------------------------------------------\n",
      "update item set qty=1 where id=1;\n",
      "macbook air 2023 pro 加入購物車\n",
      "----------------------------------------------------------------------------------------------------\n",
      "1.商品名稱:macbook air 2023 pro 價格:35000.0 數量:1 備註:256ssd 16g\n",
      "2.商品名稱:hp tuf 17 noetbook 價格:43000.0 數量:0 備註:電競用筆電 黑色\n",
      "3.商品名稱:iphone 16 pro max 價格:42000.0 數量:4 備註:1TB 天空藍\n",
      "4.商品名稱:iphone 15 pro max 價格:45000.0 數量:4 備註:256G 玫瑰金\n",
      "5.商品名稱:iphone 14 pro max 價格:40000.0 數量:4 備註:256G 白\n",
      "6.商品名稱:iphone 17 pro max 價格:48000.0 數量:4 備註:1TB 綠色\n",
      "----------------------------------------------------------------------------------------------------\n",
      "update item set qty=0 where id=1;\n",
      "macbook air 2023 pro 加入購物車\n",
      "----------------------------------------------------------------------------------------------------\n",
      "1.商品名稱:macbook air 2023 pro 價格:35000.0 數量:0 備註:256ssd 16g\n",
      "2.商品名稱:hp tuf 17 noetbook 價格:43000.0 數量:0 備註:電競用筆電 黑色\n",
      "3.商品名稱:iphone 16 pro max 價格:42000.0 數量:4 備註:1TB 天空藍\n",
      "4.商品名稱:iphone 15 pro max 價格:45000.0 數量:4 備註:256G 玫瑰金\n",
      "5.商品名稱:iphone 14 pro max 價格:40000.0 數量:4 備註:256G 白\n",
      "6.商品名稱:iphone 17 pro max 價格:48000.0 數量:4 備註:1TB 綠色\n",
      "----------------------------------------------------------------------------------------------------\n",
      "完成購買\n",
      "[(1, 'macbook air 2023 pro', 35000.0, 2, '256ssd 16g', datetime.date(2024, 8, 24)), (1, 'macbook air 2023 pro', 35000.0, 1, '256ssd 16g', datetime.date(2024, 8, 24))]\n"
     ]
    }
   ],
   "source": [
    "cart=[]\n",
    "\n",
    "while True:\n",
    "    # 同步更新最新產品\n",
    "    items=update_item()\n",
    "    # 選單\n",
    "    print(\"-\"*100)\n",
    "    for i,item in enumerate(items):\n",
    "        print(f\"{i+1}.商品名稱:{item[1]} 價格:{item[2]} 數量:{item[3]} 備註:{item[4]}\")\n",
    "    print(\"-\"*100)\n",
    "\n",
    "    choice=int(input(\"輸入編號(0:eixt):\"))\n",
    "    if choice==0:\n",
    "        break\n",
    "    # 選項<1 or >len(items)  輸入不正確\n",
    "    if choice<1 or choice>len(items):\n",
    "        print(\"輸入不正確\")\n",
    "        continue\n",
    "    # 紀錄購買商品\n",
    "    buy_item=items[choice-1]\n",
    "    # 數量小於1(無庫存)\n",
    "    if buy_item[3]<1:\n",
    "        print(f\"*****{buy_item[1]}目前無庫存\")\n",
    "        continue\n",
    "    # 加入購物車\n",
    "    cart.append(buy_item)\n",
    "\n",
    "    # 更新商品數量\n",
    "    sqlsrt=f\"update item set qty={buy_item[3]-1} where id={buy_item[0]};\"\n",
    "    print(sqlsrt)\n",
    "    cursor.execute(sqlsrt)\n",
    "    connect.commit()\n",
    "\n",
    "\n",
    "\n",
    "    print(f\"{buy_item[1]} 加入購物車\")\n",
    "\n",
    "\n",
    "\n",
    "\n",
    "print(\"完成購買\")\n",
    "print(cart)\n",
    "\n"
   ]
  },
  {
   "cell_type": "markdown",
   "metadata": {},
   "source": [
    "### 送出訂單\n",
    "- id\n",
    "- user_id\n",
    "- item_id\n",
    "- created_item"
   ]
  },
  {
   "cell_type": "code",
   "execution_count": 52,
   "metadata": {},
   "outputs": [
    {
     "name": "stdout",
     "output_type": "stream",
     "text": [
      "(1, 'macbook air 2023 pro', 35000.0, 2, '256ssd 16g', datetime.date(2024, 8, 24))\n",
      "(1, 'macbook air 2023 pro', 35000.0, 1, '256ssd 16g', datetime.date(2024, 8, 24))\n"
     ]
    }
   ],
   "source": [
    "for item in cart:\n",
    "    print(item)\n",
    "    sqlsrt=\"insert into `order` (user_id,item_id) values({},{});\""
   ]
  },
  {
   "cell_type": "code",
   "execution_count": null,
   "metadata": {},
   "outputs": [],
   "source": []
  },
  {
   "cell_type": "code",
   "execution_count": null,
   "metadata": {},
   "outputs": [],
   "source": []
  },
  {
   "cell_type": "code",
   "execution_count": null,
   "metadata": {},
   "outputs": [],
   "source": []
  },
  {
   "cell_type": "code",
   "execution_count": null,
   "metadata": {},
   "outputs": [],
   "source": []
  },
  {
   "cell_type": "code",
   "execution_count": null,
   "metadata": {},
   "outputs": [],
   "source": []
  },
  {
   "cell_type": "code",
   "execution_count": null,
   "metadata": {},
   "outputs": [],
   "source": []
  },
  {
   "cell_type": "code",
   "execution_count": null,
   "metadata": {},
   "outputs": [],
   "source": []
  },
  {
   "cell_type": "code",
   "execution_count": null,
   "metadata": {},
   "outputs": [],
   "source": []
  },
  {
   "cell_type": "code",
   "execution_count": null,
   "metadata": {},
   "outputs": [],
   "source": []
  },
  {
   "cell_type": "code",
   "execution_count": null,
   "metadata": {},
   "outputs": [],
   "source": []
  },
  {
   "cell_type": "code",
   "execution_count": null,
   "metadata": {},
   "outputs": [],
   "source": []
  },
  {
   "cell_type": "code",
   "execution_count": null,
   "metadata": {},
   "outputs": [],
   "source": []
  },
  {
   "cell_type": "code",
   "execution_count": null,
   "metadata": {},
   "outputs": [],
   "source": []
  },
  {
   "cell_type": "code",
   "execution_count": null,
   "metadata": {},
   "outputs": [],
   "source": []
  },
  {
   "cell_type": "code",
   "execution_count": null,
   "metadata": {},
   "outputs": [],
   "source": []
  },
  {
   "cell_type": "code",
   "execution_count": null,
   "metadata": {},
   "outputs": [],
   "source": []
  },
  {
   "cell_type": "code",
   "execution_count": null,
   "metadata": {},
   "outputs": [],
   "source": []
  },
  {
   "cell_type": "code",
   "execution_count": null,
   "metadata": {},
   "outputs": [],
   "source": []
  },
  {
   "cell_type": "code",
   "execution_count": null,
   "metadata": {},
   "outputs": [],
   "source": []
  },
  {
   "cell_type": "code",
   "execution_count": null,
   "metadata": {},
   "outputs": [],
   "source": []
  },
  {
   "cell_type": "code",
   "execution_count": null,
   "metadata": {},
   "outputs": [],
   "source": []
  },
  {
   "cell_type": "code",
   "execution_count": null,
   "metadata": {},
   "outputs": [],
   "source": []
  },
  {
   "cell_type": "code",
   "execution_count": null,
   "metadata": {},
   "outputs": [],
   "source": []
  },
  {
   "cell_type": "code",
   "execution_count": null,
   "metadata": {},
   "outputs": [],
   "source": []
  },
  {
   "cell_type": "code",
   "execution_count": 49,
   "metadata": {},
   "outputs": [],
   "source": [
    "connect.close()"
   ]
  }
 ],
 "metadata": {
  "kernelspec": {
   "display_name": "base",
   "language": "python",
   "name": "python3"
  },
  "language_info": {
   "codemirror_mode": {
    "name": "ipython",
    "version": 3
   },
   "file_extension": ".py",
   "mimetype": "text/x-python",
   "name": "python",
   "nbconvert_exporter": "python",
   "pygments_lexer": "ipython3",
   "version": "3.11.7"
  }
 },
 "nbformat": 4,
 "nbformat_minor": 2
}
